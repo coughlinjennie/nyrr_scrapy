{
  "nbformat": 4,
  "nbformat_minor": 0,
  "metadata": {
    "colab": {
      "provenance": [],
      "name": "results.nyrr.ipynb",
      "include_colab_link": true
    },
    "kernelspec": {
      "name": "python3",
      "display_name": "Python 3"
    },
    "language_info": {
      "name": "python"
    }
  },
  "cells": [
    {
      "cell_type": "markdown",
      "metadata": {
        "id": "view-in-github",
        "colab_type": "text"
      },
      "source": [
        "<a href=\"https://colab.research.google.com/github/coughlinjennie/nyrr_scrapy/blob/master/results_nyrr.ipynb\" target=\"_parent\"><img src=\"https://colab.research.google.com/assets/colab-badge.svg\" alt=\"Open In Colab\"/></a>"
      ]
    },
    {
      "cell_type": "code",
      "execution_count": 1,
      "metadata": {
        "id": "BEqZDaGKchNU"
      },
      "outputs": [],
      "source": [
        "# copy-paste all python code from https://curlconverter.com/\n",
        "\n",
        "# import requests\n",
        "# cookies = {\n",
        "# ...\n",
        "# }\n",
        "# headers = {\n",
        "# ...\n",
        "# }\n",
        "# json_data = {\n",
        "# ...\n",
        "# }\n",
        "# response = requests.post('https://results.nyrr.org/api/runners/finishers-filter', cookies=cookies, headers=headers, json=json_data)\n",
        "import requests\n",
        "\n",
        "headers = {\n",
        "    'accept': 'application/json, text/plain, */*',\n",
        "    'accept-language': 'en-US,en;q=0.9',\n",
        "    'content-type': 'application/json;charset=UTF-8',\n",
        "    'dnt': '1',\n",
        "    'origin': 'https://results.nyrr.org',\n",
        "    'priority': 'u=1, i',\n",
        "    'referer': 'https://results.nyrr.org/',\n",
        "    'sec-ch-ua': '\"Not;A=Brand\";v=\"99\", \"Google Chrome\";v=\"139\", \"Chromium\";v=\"139\"',\n",
        "    'sec-ch-ua-mobile': '?0',\n",
        "    'sec-ch-ua-platform': '\"macOS\"',\n",
        "    'sec-fetch-dest': 'empty',\n",
        "    'sec-fetch-mode': 'cors',\n",
        "    'sec-fetch-site': 'same-site',\n",
        "    'user-agent': 'Mozilla/5.0 (Macintosh; Intel Mac OS X 10_15_7) AppleWebKit/537.36 (KHTML, like Gecko) Chrome/139.0.0.0 Safari/537.36',\n",
        "}\n",
        "\n",
        "json_data = {\n",
        "    'eventCode': '25GGG',\n",
        "    'searchString': None,\n",
        "    'handicap': 'P',\n",
        "    'sortColumn': 'overallTime',\n",
        "    'sortDescending': False,\n",
        "    'pageIndex': 1,\n",
        "    'pageSize': 51,\n",
        "}\n",
        "\n",
        "response = requests.post('https://rmsprodapi.nyrr.org/api/v2/runners/finishers-filter', headers=headers, json=json_data)\n",
        "\n",
        "# Note: json_data will not be serialized by requests\n",
        "# exactly as it was in the original request.\n",
        "#data = '{\"eventCode\":\"25GGG\",\"searchString\":null,\"handicap\":\"P\",\"sortColumn\":\"overallTime\",\"sortDescending\":false,\"pageIndex\":1,\"pageSize\":51}'\n",
        "#response = requests.post('https://rmsprodapi.nyrr.org/api/v2/runners/finishers-filter', headers=headers, data=data)"
      ]
    },
    {
      "cell_type": "code",
      "source": [
        "import pandas as pd\n",
        "\n",
        "json_data[\"pageSize\"] = 10000\n",
        "race_results_01 = requests.post('https://results.nyrr.org/api/runners/finishers-filter', cookies=cookies, headers=headers, json=json_data).json()\n",
        "total_items = race_results_01[\"response\"][\"totalItems\"]\n",
        "\n",
        "json_data[\"pageSize\"] = total_items - json_data[\"pageSize\"]\n",
        "json_data[\"sortDescending\"] = True\n",
        "race_results_02 = requests.post('https://results.nyrr.org/api/runners/finishers-filter', cookies=cookies, headers=headers, json=json_data).json()\n",
        "\n",
        "race_results = [*race_results_01[\"response\"][\"items\"], *race_results_02[\"response\"][\"items\"]]\n",
        "\n",
        "df = pd.DataFrame(race_results).convert_dtypes().sort_values(by=\"overallPlace\")\n",
        "df"
      ],
      "metadata": {
        "colab": {
          "base_uri": "https://localhost:8080/",
          "height": 211
        },
        "id": "NBrg7gBNdsNA",
        "outputId": "0dd76a46-3dc8-4a13-c967-c831f1f3f902"
      },
      "execution_count": 2,
      "outputs": [
        {
          "output_type": "error",
          "ename": "NameError",
          "evalue": "name 'cookies' is not defined",
          "traceback": [
            "\u001b[0;31m---------------------------------------------------------------------------\u001b[0m",
            "\u001b[0;31mNameError\u001b[0m                                 Traceback (most recent call last)",
            "\u001b[0;32m/tmp/ipython-input-1227828086.py\u001b[0m in \u001b[0;36m<cell line: 0>\u001b[0;34m()\u001b[0m\n\u001b[1;32m      2\u001b[0m \u001b[0;34m\u001b[0m\u001b[0m\n\u001b[1;32m      3\u001b[0m \u001b[0mjson_data\u001b[0m\u001b[0;34m[\u001b[0m\u001b[0;34m\"pageSize\"\u001b[0m\u001b[0;34m]\u001b[0m \u001b[0;34m=\u001b[0m \u001b[0;36m10000\u001b[0m\u001b[0;34m\u001b[0m\u001b[0;34m\u001b[0m\u001b[0m\n\u001b[0;32m----> 4\u001b[0;31m \u001b[0mrace_results_01\u001b[0m \u001b[0;34m=\u001b[0m \u001b[0mrequests\u001b[0m\u001b[0;34m.\u001b[0m\u001b[0mpost\u001b[0m\u001b[0;34m(\u001b[0m\u001b[0;34m'https://results.nyrr.org/api/runners/finishers-filter'\u001b[0m\u001b[0;34m,\u001b[0m \u001b[0mcookies\u001b[0m\u001b[0;34m=\u001b[0m\u001b[0mcookies\u001b[0m\u001b[0;34m,\u001b[0m \u001b[0mheaders\u001b[0m\u001b[0;34m=\u001b[0m\u001b[0mheaders\u001b[0m\u001b[0;34m,\u001b[0m \u001b[0mjson\u001b[0m\u001b[0;34m=\u001b[0m\u001b[0mjson_data\u001b[0m\u001b[0;34m)\u001b[0m\u001b[0;34m.\u001b[0m\u001b[0mjson\u001b[0m\u001b[0;34m(\u001b[0m\u001b[0;34m)\u001b[0m\u001b[0;34m\u001b[0m\u001b[0;34m\u001b[0m\u001b[0m\n\u001b[0m\u001b[1;32m      5\u001b[0m \u001b[0mtotal_items\u001b[0m \u001b[0;34m=\u001b[0m \u001b[0mrace_results_01\u001b[0m\u001b[0;34m[\u001b[0m\u001b[0;34m\"response\"\u001b[0m\u001b[0;34m]\u001b[0m\u001b[0;34m[\u001b[0m\u001b[0;34m\"totalItems\"\u001b[0m\u001b[0;34m]\u001b[0m\u001b[0;34m\u001b[0m\u001b[0;34m\u001b[0m\u001b[0m\n\u001b[1;32m      6\u001b[0m \u001b[0;34m\u001b[0m\u001b[0m\n",
            "\u001b[0;31mNameError\u001b[0m: name 'cookies' is not defined"
          ]
        }
      ]
    },
    {
      "cell_type": "code",
      "source": [
        "# save to csv & xlsx\n",
        "df.to_csv(\"race_results.csv\", index = False)\n",
        "df.to_excel(\"race_results.xlsx\", index = False)\n",
        "\n"
      ],
      "metadata": {
        "id": "6Ol9IZeahyK9"
      },
      "execution_count": null,
      "outputs": []
    },
    {
      "cell_type": "code",
      "source": [
        "from google.colab import files\n",
        "# download files\n",
        "files.download('race_results.csv')\n",
        "files.download('race_results.xlsx')\n"
      ],
      "metadata": {
        "colab": {
          "base_uri": "https://localhost:8080/",
          "height": 17
        },
        "id": "79BGHyShsufq",
        "outputId": "90c708f0-6616-4d83-bc57-b5c53efbf5ed"
      },
      "execution_count": null,
      "outputs": [
        {
          "output_type": "display_data",
          "data": {
            "text/plain": [
              "<IPython.core.display.Javascript object>"
            ],
            "application/javascript": [
              "\n",
              "    async function download(id, filename, size) {\n",
              "      if (!google.colab.kernel.accessAllowed) {\n",
              "        return;\n",
              "      }\n",
              "      const div = document.createElement('div');\n",
              "      const label = document.createElement('label');\n",
              "      label.textContent = `Downloading \"${filename}\": `;\n",
              "      div.appendChild(label);\n",
              "      const progress = document.createElement('progress');\n",
              "      progress.max = size;\n",
              "      div.appendChild(progress);\n",
              "      document.body.appendChild(div);\n",
              "\n",
              "      const buffers = [];\n",
              "      let downloaded = 0;\n",
              "\n",
              "      const channel = await google.colab.kernel.comms.open(id);\n",
              "      // Send a message to notify the kernel that we're ready.\n",
              "      channel.send({})\n",
              "\n",
              "      for await (const message of channel.messages) {\n",
              "        // Send a message to notify the kernel that we're ready.\n",
              "        channel.send({})\n",
              "        if (message.buffers) {\n",
              "          for (const buffer of message.buffers) {\n",
              "            buffers.push(buffer);\n",
              "            downloaded += buffer.byteLength;\n",
              "            progress.value = downloaded;\n",
              "          }\n",
              "        }\n",
              "      }\n",
              "      const blob = new Blob(buffers, {type: 'application/binary'});\n",
              "      const a = document.createElement('a');\n",
              "      a.href = window.URL.createObjectURL(blob);\n",
              "      a.download = filename;\n",
              "      div.appendChild(a);\n",
              "      a.click();\n",
              "      div.remove();\n",
              "    }\n",
              "  "
            ]
          },
          "metadata": {}
        },
        {
          "output_type": "display_data",
          "data": {
            "text/plain": [
              "<IPython.core.display.Javascript object>"
            ],
            "application/javascript": [
              "download(\"download_59e0e797-0c2a-49ee-80a5-afd5294d1177\", \"race_results.csv\", 1337297)"
            ]
          },
          "metadata": {}
        },
        {
          "output_type": "display_data",
          "data": {
            "text/plain": [
              "<IPython.core.display.Javascript object>"
            ],
            "application/javascript": [
              "\n",
              "    async function download(id, filename, size) {\n",
              "      if (!google.colab.kernel.accessAllowed) {\n",
              "        return;\n",
              "      }\n",
              "      const div = document.createElement('div');\n",
              "      const label = document.createElement('label');\n",
              "      label.textContent = `Downloading \"${filename}\": `;\n",
              "      div.appendChild(label);\n",
              "      const progress = document.createElement('progress');\n",
              "      progress.max = size;\n",
              "      div.appendChild(progress);\n",
              "      document.body.appendChild(div);\n",
              "\n",
              "      const buffers = [];\n",
              "      let downloaded = 0;\n",
              "\n",
              "      const channel = await google.colab.kernel.comms.open(id);\n",
              "      // Send a message to notify the kernel that we're ready.\n",
              "      channel.send({})\n",
              "\n",
              "      for await (const message of channel.messages) {\n",
              "        // Send a message to notify the kernel that we're ready.\n",
              "        channel.send({})\n",
              "        if (message.buffers) {\n",
              "          for (const buffer of message.buffers) {\n",
              "            buffers.push(buffer);\n",
              "            downloaded += buffer.byteLength;\n",
              "            progress.value = downloaded;\n",
              "          }\n",
              "        }\n",
              "      }\n",
              "      const blob = new Blob(buffers, {type: 'application/binary'});\n",
              "      const a = document.createElement('a');\n",
              "      a.href = window.URL.createObjectURL(blob);\n",
              "      a.download = filename;\n",
              "      div.appendChild(a);\n",
              "      a.click();\n",
              "      div.remove();\n",
              "    }\n",
              "  "
            ]
          },
          "metadata": {}
        },
        {
          "output_type": "display_data",
          "data": {
            "text/plain": [
              "<IPython.core.display.Javascript object>"
            ],
            "application/javascript": [
              "download(\"download_86f0c3c8-623b-49fa-b673-8ef52dbe96a2\", \"race_results.xlsx\", 1316728)"
            ]
          },
          "metadata": {}
        }
      ]
    }
  ]
}